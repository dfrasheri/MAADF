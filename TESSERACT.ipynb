{
  "nbformat": 4,
  "nbformat_minor": 0,
  "metadata": {
    "colab": {
      "provenance": []
    },
    "kernelspec": {
      "name": "python3",
      "display_name": "Python 3"
    },
    "language_info": {
      "name": "python"
    }
  },
  "cells": [
    {
      "cell_type": "code",
      "source": [
        "# Download a valid test image (e.g., from Wikipedia)\n",
        "!wget https://upload.wikimedia.org/wikipedia/commons/thumb/a/a2/Tesseract_test_image.png/800px-Tesseract_test_image.png -O test_image.png\n",
        "# Step 1: Install dependencies (run in one cell)\n",
        "!apt-get install -y tesseract-ocr tesseract-ocr-chi-sim\n",
        "!pip install pytesseract git+https://github.com/mindee/doctr.git\n",
        "\n",
        "# Step 2: Test Tesseract (run in a new cell)\n",
        "import pytesseract\n",
        "from PIL import Image\n",
        "\n",
        "\n",
        "# Create a sample image (or upload one)\n",
        "!wget https://raw.githubusercontent.com/tesseract-ocr/tesseract/main/phototest.tif\n",
        "text = pytesseract.image_to_string(Image.open(\"/content/EPOKA STUDENT ID FRONT.jpeg\"))\n",
        "print(\"Tesseract Output:\\n\", text)\n",
        "\n",
        "\n",
        "import pytesseract\n",
        "from PIL import Image\n",
        "\n",
        "# Open the image\n",
        "img = Image.open(\"test_image.png\")\n",
        "\n",
        "# Perform OCR\n",
        "text = pytesseract.image_to_string(img)\n",
        "print(\"Tesseract Output:\\n\", text)\n",
        "\n",
        "img = img.convert(\"L\")  # Convert to grayscale\n",
        "\n",
        "img = img.point(lambda x: 0 if x < 128 else 255, \"1\")  # Binary threshold\n",
        "\n",
        "\n",
        "# Step 3: Test DocTR (run in a new cell)\n",
        "from doctr.models import ocr_predictor\n",
        "from doctr.io import DocumentFile\n",
        "\n",
        "predictor = ocr_predictor(pretrained=True)\n",
        "doc = DocumentFile.from_images(\"/content/EPOKA STUDENT ID FRONT.jpeg\")\n",
        "result = predictor(doc)\n",
        "print(\"DocTR Output:\\n\", result.render())\n",
        "\n",
        "\n",
        "\n",
        "from doctr.models import ocr_predictor\n",
        "from doctr.io import DocumentFile\n",
        "\n",
        "# Load pretrained model\n",
        "predictor = ocr_predictor(pretrained=True)\n",
        "\n",
        "# Load image\n",
        "doc = DocumentFile.from_images(\"test_image.png\")\n",
        "\n",
        "# Run OCR\n",
        "result = predictor(doc)\n",
        "print(\"DocTR Output:\\n\", result.render())"
      ],
      "metadata": {
        "id": "FodJH2XjRujt"
      },
      "execution_count": null,
      "outputs": []
    }
  ]
}